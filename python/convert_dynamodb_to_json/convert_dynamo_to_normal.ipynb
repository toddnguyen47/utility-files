{
 "cells": [
  {
   "cell_type": "code",
   "execution_count": 1,
   "id": "c0854ebd",
   "metadata": {},
   "outputs": [],
   "source": [
    "# Ref: https://stackoverflow.com/a/47664534/6323360\n",
    "\n",
    "import simplejson\n",
    "import os\n",
    "from boto3.dynamodb.types import TypeDeserializer"
   ]
  },
  {
   "cell_type": "code",
   "execution_count": 2,
   "id": "fe6619c8",
   "metadata": {},
   "outputs": [],
   "source": [
    "def ddb_deserialize_map(r, type_deserializer = TypeDeserializer()):\n",
    "    return type_deserializer.deserialize({\"M\": r})"
   ]
  },
  {
   "cell_type": "code",
   "execution_count": 3,
   "id": "414d407d",
   "metadata": {},
   "outputs": [],
   "source": [
    "with open(\"infile.json\", \"r\", encoding=\"utf-8\") as file:\n",
    "    data = file.read()"
   ]
  },
  {
   "cell_type": "code",
   "execution_count": 18,
   "id": "3f37d791",
   "metadata": {},
   "outputs": [],
   "source": [
    "l1 = simplejson.loads(data)\n",
    "new_list = []\n",
    "\n",
    "for item in l1:\n",
    "    deserialized = ddb_deserialize_map(item)\n",
    "    new_list.append(deserialized)"
   ]
  },
  {
   "cell_type": "code",
   "execution_count": 21,
   "id": "0f11c05c",
   "metadata": {},
   "outputs": [],
   "source": [
    "with open(\"outfile.json\", \"w\", encoding=\"utf-8\") as outfile:\n",
    "    simplejson.dump(new_list, outfile, indent=2)"
   ]
  },
  {
   "cell_type": "code",
   "execution_count": null,
   "id": "8636946d",
   "metadata": {},
   "outputs": [],
   "source": []
  }
 ],
 "metadata": {
  "kernelspec": {
   "display_name": "Python 3 (ipykernel)",
   "language": "python",
   "name": "python3"
  },
  "language_info": {
   "codemirror_mode": {
    "name": "ipython",
    "version": 3
   },
   "file_extension": ".py",
   "mimetype": "text/x-python",
   "name": "python",
   "nbconvert_exporter": "python",
   "pygments_lexer": "ipython3",
   "version": "3.11.2"
  }
 },
 "nbformat": 4,
 "nbformat_minor": 5
}
