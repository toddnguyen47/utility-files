{
 "cells": [
  {
   "cell_type": "code",
   "execution_count": null,
   "id": "7c65af04",
   "metadata": {},
   "outputs": [],
   "source": [
    "import os\n",
    "import re"
   ]
  },
  {
   "cell_type": "code",
   "execution_count": null,
   "id": "09a3a18c",
   "metadata": {},
   "outputs": [],
   "source": [
    "# Configurable values\n",
    "\n",
    "_struct_name = \"YourServiceHere\"\n",
    "_interface_name = \"YourInterfaceHere\"\n",
    "_path1 = \"/full/path/to/your/package\""
   ]
  },
  {
   "cell_type": "code",
   "execution_count": null,
   "id": "3679e7b5",
   "metadata": {},
   "outputs": [],
   "source": [
    "_str1 = f\"func [\\\\S \\\\t]+\\\\b{_struct_name}[ \\\\t\\\\n]*\\\\)[ \\\\t]+([A-Za-z0-9_]+)([\\\\S \\\\t]+)\"\n",
    "_re1 = re.compile(_str1)\n",
    "\n",
    "_re_whitespace = re.compile(r\"[\\t ]+\")\n",
    "\n",
    "_re_comma_ending_parentheses = re.compile(r\",[\\t ]*\\)\")\n",
    "_re_opening_parentheses_whitespace = re.compile(r\"\\([ \\t]+\")\n",
    "\n",
    "def _process_file(file_path: str) -> list[str]:\n",
    "    with open(file_path, \"r\", encoding=\"utf-8\") as infile:\n",
    "        data = infile.read()\n",
    "    public_functions: list[str] = []\n",
    "   \n",
    "    # resettable values\n",
    "    trying_to_find = False\n",
    "    bracket_found = False\n",
    "    current_function_name: list[str] = []\n",
    "\n",
    "    # start processing\n",
    "    for line in data.split(\"\\n\"):\n",
    "        if trying_to_find:\n",
    "            current_line = []\n",
    "            line = _re_whitespace.sub(\" \", line)\n",
    "            for c1 in line:\n",
    "                if c1 == '{':\n",
    "                    bracket_found = True\n",
    "                    break\n",
    "                current_line.append(c1)\n",
    "            function_name = \"\".join(current_line).rstrip()\n",
    "            current_function_name.append(function_name)\n",
    "        else:\n",
    "            m = _re1.search(line)\n",
    "            if m:\n",
    "                function_name = m.group(1)\n",
    "                if function_name[0].isupper():\n",
    "                    trying_to_find = True\n",
    "                    current_function_name.append(function_name)\n",
    "                    remaining = m.group(2)\n",
    "                    for c1 in remaining:\n",
    "                        if c1 == '{':\n",
    "                            bracket_found = True\n",
    "                            break\n",
    "                        current_function_name.append(c1)\n",
    "        if bracket_found:\n",
    "            function_name = \"\".join(current_function_name)\n",
    "            function_name = _re_comma_ending_parentheses.sub(\")\", function_name)\n",
    "            function_name = _re_opening_parentheses_whitespace.sub(\"(\", function_name)\n",
    "            public_functions.append(function_name)\n",
    "            # Reset\n",
    "            trying_to_find = False\n",
    "            bracket_found = False\n",
    "            current_function_name: list[str] = []\n",
    "\n",
    "    return public_functions"
   ]
  },
  {
   "cell_type": "code",
   "execution_count": null,
   "id": "54e651bf",
   "metadata": {},
   "outputs": [],
   "source": [
    "public_functions: list[str] = []\n",
    "\n",
    "for root, dirs, files in os.walk(_path1):\n",
    "    for file in files:\n",
    "        if file.endswith(\".go\"):\n",
    "            full_path = os.path.join(root, file)\n",
    "            l1 = _process_file(full_path)\n",
    "            public_functions.extend(l1)\n",
    "public_functions.sort()\n",
    "print(len(public_functions))"
   ]
  },
  {
   "cell_type": "code",
   "execution_count": null,
   "id": "fbf3770b",
   "metadata": {},
   "outputs": [],
   "source": [
    "# output now\n",
    "interface_lines: list[str] = []\n",
    "interface_lines.append(f\"type {_interface_name} interface\" + \" {\")\n",
    "\n",
    "for fn in public_functions:\n",
    "    interface_lines.append(\"\\t\" + fn)\n",
    "\n",
    "interface_lines.append(\"}\")\n",
    "\n",
    "outdata = \"\\n\".join(interface_lines)\n",
    "print(outdata)"
   ]
  },
  {
   "cell_type": "code",
   "execution_count": null,
   "id": "699fa1f5",
   "metadata": {},
   "outputs": [],
   "source": []
  }
 ],
 "metadata": {
  "kernelspec": {
   "display_name": "Python 3 (ipykernel)",
   "language": "python",
   "name": "python3"
  },
  "language_info": {
   "codemirror_mode": {
    "name": "ipython",
    "version": 3
   },
   "file_extension": ".py",
   "mimetype": "text/x-python",
   "name": "python",
   "nbconvert_exporter": "python",
   "pygments_lexer": "ipython3",
   "version": "3.11.2"
  }
 },
 "nbformat": 4,
 "nbformat_minor": 5
}
